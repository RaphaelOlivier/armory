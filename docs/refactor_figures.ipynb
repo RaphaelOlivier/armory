{
 "cells": [
  {
   "cell_type": "markdown",
   "source": [
    "## this notebook is an adjucnt to a design discussion in [How to Refactor Armory](https://docs.google.com/document/d/1MJwGz7UzuVOhbEEPqij4GmGGtK2QV46b9N-sY6xIFOM/edit?usp=sharing) and will not make sense without it."
   ],
   "metadata": {}
  },
  {
   "cell_type": "code",
   "execution_count": 24,
   "source": [
    "# Inner Loop Example\n",
    "\n",
    "from pathlib import Path\n",
    "\n",
    "def length_of(path):\n",
    "    return len(open(path).readlines())\n",
    "\n",
    "def sum_lines_dir(dir):\n",
    "    \"\"\"Return the sum of all lines in all files in dir.\"\"\"\n",
    "    count = 0\n",
    "    for file in dir.glob('*'):\n",
    "        count += length_of(file)\n",
    "    return count\n",
    "\n",
    "dir = Path(\"/etc/apt/sources.list.d\")\n",
    "print(f\"sum_lines_dir({dir})  = {sum_lines_dir(dir)}\")"
   ],
   "outputs": [
    {
     "output_type": "stream",
     "name": "stdout",
     "text": [
      "sum_lines_dir(/etc/apt/sources.list.d)  = 156\n"
     ]
    }
   ],
   "metadata": {}
  },
  {
   "cell_type": "code",
   "execution_count": 25,
   "source": [
    "# Inner Loop Made Outer\n",
    "\n",
    "import random\n",
    "\n",
    "def sum_line_count(files: list):\n",
    "    return sum([length_of(file) for file in files])\n",
    "\n",
    "files = list(pathlib.Path('/etc/apt/sources.list.d').glob('*'))\n",
    "\n",
    "# we want the whole batch\n",
    "print(\"sum line counts of all files\", sum_line_count(files))\n",
    "\n",
    "# now we want to process only a little sample of the files\n",
    "for file in random.sample(files, k=3):\n",
    "    print(\"small sample line count for\", file, sum_line_count([file]))"
   ],
   "outputs": [
    {
     "output_type": "stream",
     "name": "stdout",
     "text": [
      "sum line counts of all files 156\n",
      "small sample line count for /etc/apt/sources.list.d/mmstick76-ubuntu-alacritty-focal.list 2\n",
      "small sample line count for /etc/apt/sources.list.d/openshot_developers-ubuntu-ppa-bionic.list.save 2\n",
      "small sample line count for /etc/apt/sources.list.d/kxstudio-debian.gcc5.list.dpkg-new 8\n"
     ]
    }
   ],
   "metadata": {}
  },
  {
   "cell_type": "code",
   "execution_count": 26,
   "source": [
    "# Refactor Ontology\n",
    "\n",
    "from dataclasses import dataclass\n",
    "\n",
    "class Model:\n",
    "    def train(self, x, y):\n",
    "        return x * y\n",
    "\n",
    "class Dataset:\n",
    "    def training(self):\n",
    "        return range(4)\n",
    "\n",
    "class Weights:\n",
    "    pass\n",
    "\n",
    "@dataclass\n",
    "class Run:\n",
    "    model: Model\n",
    "    dataset: Dataset\n",
    "\n",
    "    def train(self) -> Weights:\n",
    "        return self.model.train(self.dataset.training())\n",
    "\n",
    "    def pipeline(self, model: Model, dataset: Dataset):\n",
    "        self.weights = Weights.load(model, dataset) or self.train()\n",
    "        Weights.store(model, dataset, self.weights) "
   ],
   "outputs": [],
   "metadata": {}
  }
 ],
 "metadata": {
  "kernelspec": {
   "name": "python3",
   "display_name": "Python 3.8.10 64-bit ('armory': virtualenv)"
  },
  "language_info": {
   "codemirror_mode": {
    "name": "ipython",
    "version": 3
   },
   "file_extension": ".py",
   "mimetype": "text/x-python",
   "name": "python",
   "nbconvert_exporter": "python",
   "pygments_lexer": "ipython3",
   "version": "3.8.10"
  },
  "interpreter": {
   "hash": "8f9c478ec5bf6e04d9c4b2ee1bff7bfed043622b3ebbb4b7243a337f6b03d60c"
  }
 },
 "nbformat": 4,
 "nbformat_minor": 4
}